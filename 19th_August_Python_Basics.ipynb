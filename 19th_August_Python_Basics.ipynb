{
 "cells": [
  {
   "cell_type": "markdown",
   "id": "3a2d458f-ae26-48d4-aa4e-8429bf8941d0",
   "metadata": {},
   "source": [
    "# Topic: Python Basics Variable"
   ]
  },
  {
   "cell_type": "markdown",
   "id": "caa5690d-fa0d-4bee-9796-45c2b1a31435",
   "metadata": {},
   "source": [
    "1. Declare two variables `x` and `y`, and assign them integer values. Swap the values of these variables without using any temporary variable."
   ]
  },
  {
   "cell_type": "code",
   "execution_count": 1,
   "id": "0ab26b81-ca0e-45fe-a56e-d0742ca18428",
   "metadata": {},
   "outputs": [
    {
     "name": "stdout",
     "output_type": "stream",
     "text": [
      "Before swapping\n",
      "x= 10\n",
      "y= 11\n",
      "After swapping\n",
      "x= 11\n",
      "y= 10\n"
     ]
    }
   ],
   "source": [
    "x = 10\n",
    "y = 11\n",
    "\n",
    "print(\"Before swapping\")\n",
    "print(\"x=\",x)\n",
    "print(\"y=\",y)\n",
    "\n",
    "x,y = y,x\n",
    "\n",
    "print(\"After swapping\")\n",
    "print(\"x=\",x)\n",
    "print(\"y=\",y)"
   ]
  },
  {
   "cell_type": "markdown",
   "id": "53c6b85d-5a25-4bdd-8556-5427b99320cc",
   "metadata": {},
   "source": [
    "2. Create a program that calculates the area of rectangle. Take the length and width as inputs from the user and store them in variables. Calculate and display the area\n",
    "\n",
    "> Area of rectangle = length * width"
   ]
  },
  {
   "cell_type": "code",
   "execution_count": 2,
   "id": "37767046-a3d1-42d8-8187-3650ad76286f",
   "metadata": {},
   "outputs": [
    {
     "name": "stdin",
     "output_type": "stream",
     "text": [
      "Enter the length: 10\n",
      "Enter the width: 12\n"
     ]
    },
    {
     "name": "stdout",
     "output_type": "stream",
     "text": [
      "Area = 120\n"
     ]
    }
   ],
   "source": [
    "length = int(input(\"Enter the length:\"))\n",
    "width = int(input(\"Enter the width:\"))\n",
    "\n",
    "area = length * width\n",
    "\n",
    "print(\"Area =\",area)"
   ]
  },
  {
   "cell_type": "markdown",
   "id": "adb3b90b-2227-42d1-8f3f-008d5f42a9fe",
   "metadata": {},
   "source": [
    "3. Write a Python program that converts temperatures from Celsius to Fahrenheit. Take the temperature in Celsius as input, store it in a variable, convert it to Fahrenheit, and display the result.\n",
    "\n",
    "> $\\frac{C}{5} = \\frac{F-32}{9}$"
   ]
  },
  {
   "cell_type": "code",
   "execution_count": 3,
   "id": "ff6a034c-cb43-4c55-be75-67005721153c",
   "metadata": {},
   "outputs": [
    {
     "name": "stdin",
     "output_type": "stream",
     "text": [
      "Enter the temperature in Celsius: 32\n"
     ]
    },
    {
     "name": "stdout",
     "output_type": "stream",
     "text": [
      "Fahrenheit temperature is 89.6\n"
     ]
    }
   ],
   "source": [
    "celsius_temp = float(input(\"Enter the temperature in Celsius:\"))\n",
    "fahrenheit_temp = ((celsius_temp/5)*9) + 32\n",
    "\n",
    "print(\"Fahrenheit temperature is\",fahrenheit_temp)"
   ]
  },
  {
   "cell_type": "markdown",
   "id": "f3a2a28b-cd5b-4576-a0ce-530cf8aae084",
   "metadata": {},
   "source": [
    "# String Based Questions"
   ]
  },
  {
   "cell_type": "markdown",
   "id": "494cde54-2370-4bb2-a04c-187b43ceb384",
   "metadata": {},
   "source": [
    "1. Write a Python program that takes a string as input and prints the length of the string."
   ]
  },
  {
   "cell_type": "code",
   "execution_count": 4,
   "id": "553d4fc3-f2e3-42d3-8f51-54915f3f58b7",
   "metadata": {},
   "outputs": [
    {
     "name": "stdin",
     "output_type": "stream",
     "text": [
      "Enter the string: I'm Batman\n"
     ]
    },
    {
     "name": "stdout",
     "output_type": "stream",
     "text": [
      "10\n"
     ]
    }
   ],
   "source": [
    "user_input = input(\"Enter the string:\")\n",
    "print(len(user_input))"
   ]
  },
  {
   "cell_type": "markdown",
   "id": "df0820c8-e579-4609-90fb-85ace1bf9042",
   "metadata": {},
   "source": [
    "2. Create a program that takes a sentence from the user and counts the number of vowels (a, e, i, o, u) in the string."
   ]
  },
  {
   "cell_type": "code",
   "execution_count": 5,
   "id": "802fec2a-01ea-4053-963a-c9f47dd70e0b",
   "metadata": {},
   "outputs": [
    {
     "name": "stdin",
     "output_type": "stream",
     "text": [
      "Enter the sentence: I'm Batman\n"
     ]
    },
    {
     "name": "stdout",
     "output_type": "stream",
     "text": [
      "Vowel count = 2\n"
     ]
    }
   ],
   "source": [
    "sentence = input(\"Enter the sentence:\")\n",
    "vowel_count = 0\n",
    "vowels = \"aeiou\"\n",
    "for char in sentence:\n",
    "    if char in vowels:\n",
    "        vowel_count += 1\n",
    "print(\"Vowel count =\",vowel_count)"
   ]
  },
  {
   "cell_type": "markdown",
   "id": "ee2158a0-43a1-406b-b37e-5b6fe16a70c0",
   "metadata": {},
   "source": [
    "3. Given a string, reverse the order of characters using string slicing and print the reversed string.\n",
    "\n",
    "> In string slicing, if we leave the `start` and `stop` as empty and provide the `step` as  `-1`, then the string will be reversed"
   ]
  },
  {
   "cell_type": "code",
   "execution_count": 6,
   "id": "cf111b03-3746-4a6a-bc9f-b891b2ea12ec",
   "metadata": {},
   "outputs": [
    {
     "name": "stdout",
     "output_type": "stream",
     "text": [
      "enyaW ecurB\n"
     ]
    }
   ],
   "source": [
    "given_string = \"Bruce Wayne\"\n",
    "reversed_string = given_string[::-1]\n",
    "print(reversed_string)"
   ]
  },
  {
   "cell_type": "markdown",
   "id": "b21ade3b-ac71-450d-9884-e69b67b63fa3",
   "metadata": {},
   "source": [
    "4. Write a program that takes a string as input and checks if it is a palindrome (reads the same forwards and backwards)."
   ]
  },
  {
   "cell_type": "code",
   "execution_count": 7,
   "id": "4083f5ee-8b77-4653-b866-91311c4cf0e3",
   "metadata": {},
   "outputs": [
    {
     "name": "stdin",
     "output_type": "stream",
     "text": [
      "Enter the string: abcba\n"
     ]
    },
    {
     "name": "stdout",
     "output_type": "stream",
     "text": [
      "Palindrome\n"
     ]
    }
   ],
   "source": [
    "string = input(\"Enter the string:\")\n",
    "reversed_string = string[::-1]\n",
    "\n",
    "if string == reversed_string:\n",
    "    print(\"Palindrome\")\n",
    "else:\n",
    "    print(\"Not a palindrome\")"
   ]
  },
  {
   "cell_type": "markdown",
   "id": "fb619412-d380-4882-883b-1c830d9c8438",
   "metadata": {},
   "source": [
    "5. Create a program that takes a string as input and removes all the spaces from it. Print the modified string without spaces."
   ]
  },
  {
   "cell_type": "code",
   "execution_count": 9,
   "id": "580cccde-9f55-42b9-ac72-c76230cb4faa",
   "metadata": {},
   "outputs": [
    {
     "name": "stdin",
     "output_type": "stream",
     "text": [
      "Enter the string: ab cd ef\n"
     ]
    },
    {
     "name": "stdout",
     "output_type": "stream",
     "text": [
      "Modified string = abcdef\n"
     ]
    }
   ],
   "source": [
    "string = input(\"Enter the string:\")\n",
    "modified_string = \"\"\n",
    "for char in string:\n",
    "    if char == \" \":\n",
    "        continue\n",
    "    modified_string += char\n",
    "print(\"Modified string =\",modified_string)"
   ]
  }
 ],
 "metadata": {
  "kernelspec": {
   "display_name": "Python 3 (ipykernel)",
   "language": "python",
   "name": "python3"
  },
  "language_info": {
   "codemirror_mode": {
    "name": "ipython",
    "version": 3
   },
   "file_extension": ".py",
   "mimetype": "text/x-python",
   "name": "python",
   "nbconvert_exporter": "python",
   "pygments_lexer": "ipython3",
   "version": "3.10.8"
  }
 },
 "nbformat": 4,
 "nbformat_minor": 5
}
